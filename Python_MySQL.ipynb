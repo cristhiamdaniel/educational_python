{
 "cells": [
  {
   "cell_type": "markdown",
   "id": "31013b79-d110-481a-8448-14b7c32177ca",
   "metadata": {
    "jp-MarkdownHeadingCollapsed": true,
    "tags": []
   },
   "source": [
    "# Estableciendo una conexión al SGBD MySQL"
   ]
  },
  {
   "cell_type": "code",
   "execution_count": null,
   "id": "979ae2f7-bd90-4b8b-b0fa-e0706578d246",
   "metadata": {},
   "outputs": [],
   "source": [
    "import mysql.connector"
   ]
  },
  {
   "cell_type": "code",
   "execution_count": null,
   "id": "9e7007dc-7ce7-43c5-b6e1-023706e724fd",
   "metadata": {},
   "outputs": [],
   "source": [
    "# Mediante la función connect se puede crear un objeto tipo mysql connection\n",
    "\n",
    "# Creamos la conexión:\n",
    "mi_conexion = mysql.connector.connect(\n",
    "    host = \"localhost\",\n",
    "    user = \"root\",\n",
    "    passwd = \"12345\")\n",
    "    \n",
    "if mi_conexion.is_connected():\n",
    "    print(\"Conexión establecida correctamente.\")\n",
    "\n",
    "# Creamos el cursor:\n",
    "\n",
    "mi_cursor = mi_conexion.cursor()\n",
    "\n",
    "# Llevamos a cabo las querys\n",
    "\n",
    "mi_cursor.execute(\"SHOW DATABASES\")\n",
    "\n",
    "# Mostramos los resultados:\n",
    "\n",
    "for bd in mi_cursor:\n",
    "    print(bd)\n",
    "\n",
    "# cerramos el cursor\n",
    "mi_cursor.close()\n",
    "\n",
    "# Cerramos la conexión:\n",
    "mi_conexion.close()\n",
    "\n",
    "if not mi_conexion.is_connected():\n",
    "    print(\"Conexión finalizada correctamente.\")"
   ]
  },
  {
   "cell_type": "markdown",
   "id": "3335ba35-e8b9-4cfc-b61e-378af523cfde",
   "metadata": {
    "jp-MarkdownHeadingCollapsed": true,
    "tags": []
   },
   "source": [
    "# Evitando errores en conexión poniendo excepciones"
   ]
  },
  {
   "cell_type": "markdown",
   "id": "d63b1e44-ea2a-47d5-94c9-0d7924e23477",
   "metadata": {},
   "source": [
    "Acceso denegado para el usuario root porque colocó mal la contraseña."
   ]
  },
  {
   "cell_type": "code",
   "execution_count": null,
   "id": "6e0e5b0d-ef43-4de7-a81a-153fc606e0ac",
   "metadata": {},
   "outputs": [],
   "source": [
    "import mysql.connector\n",
    "from mysql.connector import Error\n",
    "\n",
    "try:\n",
    "    mi_conexion = mysql.connector.connect(\n",
    "        host = \"localhost\",\n",
    "        user = \"root\",\n",
    "        passwd = \"julca\")\n",
    "\n",
    "    if mi_conexion.is_connected():\n",
    "        print(\"Conexión establecida correctamente.\")\n",
    "\n",
    "    mi_cursor = mi_conexion.cursor()\n",
    "    mi_cursor.execute(\"SHOW DATABASES\")\n",
    "\n",
    "    for bd in mi_cursor:\n",
    "        print(bd)\n",
    "\n",
    "    mi_cursor.close()\n",
    "    mi_conexion.close()\n",
    "\n",
    "    if not mi_conexion.is_connected():\n",
    "        print(\"Conexión finalizada correctamente.\")\n",
    "\n",
    "except Error as e:\n",
    "    print(\"Ha ocurrido un error\")\n",
    "    print(e)"
   ]
  },
  {
   "cell_type": "markdown",
   "id": "60174737-bb00-40c1-b4a1-bd7adc44ed69",
   "metadata": {},
   "source": [
    "Acceso denegado porque no se puede conectar al servidor."
   ]
  },
  {
   "cell_type": "code",
   "execution_count": null,
   "id": "4cd339a6-9626-4738-ad26-967f02fac63b",
   "metadata": {},
   "outputs": [],
   "source": [
    "import mysql.connector\n",
    "from mysql.connector import Error\n",
    "\n",
    "try:\n",
    "    mi_conexion = mysql.connector.connect(\n",
    "        host = \"localhst\",\n",
    "        user = \"root\",\n",
    "        passwd = \"12345\")\n",
    "\n",
    "    if mi_conexion.is_connected():\n",
    "        print(\"Conexión establecida correctamente.\")\n",
    "\n",
    "    mi_cursor = mi_conexion.cursor()\n",
    "    mi_cursor.execute(\"SHOW DATABASES\")\n",
    "\n",
    "    for bd in mi_cursor:\n",
    "        print(bd)\n",
    "\n",
    "    mi_cursor.close()\n",
    "    mi_conexion.close()\n",
    "\n",
    "    if not mi_conexion.is_connected():\n",
    "        print(\"Conexión finalizada correctamente.\")\n",
    "\n",
    "except Error as e:\n",
    "    print(\"Ha ocurrido un error\")\n",
    "    print(e)"
   ]
  },
  {
   "cell_type": "code",
   "execution_count": null,
   "id": "63cd3412-15ce-41fb-af97-1529cc6d565a",
   "metadata": {},
   "outputs": [],
   "source": [
    "import mysql.connector\n",
    "from mysql.connector import Error\n",
    "\n",
    "try:\n",
    "    mi_conexion = mysql.connector.connect(\n",
    "        host = \"localhost\",\n",
    "        user = input(\"Introduce el usuario: \"),\n",
    "        passwd = input(\"Introduce la contraseña: \"))\n",
    "\n",
    "    if mi_conexion.is_connected():\n",
    "        print(\"Conexión establecida correctamente.\")\n",
    "\n",
    "    mi_cursor = mi_conexion.cursor()\n",
    "    mi_cursor.execute(\"SHOW DATABASES\")\n",
    "\n",
    "    for bd in mi_cursor:\n",
    "        print(bd)\n",
    "\n",
    "    mi_cursor.close()\n",
    "    mi_conexion.close()\n",
    "\n",
    "    if not mi_conexion.is_connected():\n",
    "        print(\"Conexión finalizada correctamente.\")\n",
    "\n",
    "except Error as e:\n",
    "    print(\"Ha ocurrido un error\")\n",
    "    print(e)"
   ]
  },
  {
   "cell_type": "markdown",
   "id": "53bf4f74-4ab6-412d-86f4-3df036bc2473",
   "metadata": {
    "jp-MarkdownHeadingCollapsed": true,
    "tags": []
   },
   "source": [
    "# Usando funciones en una conexión"
   ]
  },
  {
   "cell_type": "markdown",
   "id": "b199ddd2-7fa1-4233-8585-c2c3822f2ca6",
   "metadata": {},
   "source": [
    "El objetivo es tener un código más legible en donde se usará funciones para llevar a cabo por separado la conexión, las consultas y las desconexiones."
   ]
  },
  {
   "cell_type": "code",
   "execution_count": null,
   "id": "4eda7537-9d00-45d1-8b94-e177c620191e",
   "metadata": {},
   "outputs": [],
   "source": [
    "import mysql.connector\n",
    "from mysql.connector import Error\n",
    "\n",
    "def conectarse(usuario, contrasenia):\n",
    "    try:\n",
    "        conexion = mysql.connector.connect(\n",
    "            host = \"localhost\",\n",
    "            user = usuario,\n",
    "            passwd = contrasenia)\n",
    "        print(\"Conexión establecida correctamente.\")\n",
    "    \n",
    "    except Error as e:\n",
    "        conexion = None\n",
    "        print(\"Ha ocurrido un error: \")\n",
    "        print(e)\n",
    "    \n",
    "    return conexion\n",
    "\n",
    "def desconectarse(conexion):\n",
    "    if conexion:\n",
    "        conexion.close()\n",
    "        print(\"Conexión finalizada correctamente.\")\n",
    "\n",
    "def hacer_consulta(conexion):\n",
    "    cursor = conexion.cursor()\n",
    "    cursor.execute(\"SHOW DATABASES\")\n",
    "    for bd in cursor:\n",
    "        print(bd)\n",
    "    cursor.close()\n",
    "\n",
    "u = input(\"Introduzca usuario: \")\n",
    "c = input(\"Introduzca contraseña: \")\n",
    "conexion = conectarse(u, c)\n",
    "if conexion:\n",
    "    hacer_consulta(conexion)\n",
    "    desconectarse(conexion)\n",
    "\n",
    "  "
   ]
  },
  {
   "cell_type": "markdown",
   "id": "fab21eef-0fe2-4e9b-ae79-3db8c18ce4cb",
   "metadata": {},
   "source": [
    "# Usando variables de entorno en los datos de conexión"
   ]
  },
  {
   "cell_type": "markdown",
   "id": "54aa8064-2ad5-48bc-b21d-e5b818162e66",
   "metadata": {},
   "source": [
    "Para no dejar expuestos nuestros datos de acceso, es preferible utilizar el módulo OS. de python que nos permite usar las variables de entorno de nuestro sistema operativo."
   ]
  },
  {
   "cell_type": "code",
   "execution_count": 1,
   "id": "66a1cb99-c48e-4794-aa2c-7df03e153334",
   "metadata": {},
   "outputs": [
    {
     "name": "stdout",
     "output_type": "stream",
     "text": [
      "Conexión establecida correctamente.\n",
      "('agenda',)\n",
      "('information_schema',)\n",
      "('mysql',)\n",
      "('performance_schema',)\n",
      "('sakila',)\n",
      "('sys',)\n",
      "('world',)\n",
      "Conexión finalizada correctamente.\n"
     ]
    }
   ],
   "source": [
    "import mysql.connector\n",
    "from mysql.connector import Error\n",
    "import os\n",
    "\n",
    "def conectarse(usuario, contrasenia):\n",
    "    try:\n",
    "        conexion = mysql.connector.connect(\n",
    "            host = \"localhost\",\n",
    "            user = usuario,\n",
    "            passwd = contrasenia)\n",
    "        print(\"Conexión establecida correctamente.\")\n",
    "    \n",
    "    except Error as e:\n",
    "        conexion = None\n",
    "        print(\"Ha ocurrido un error: \")\n",
    "        print(e)\n",
    "    \n",
    "    return conexion\n",
    "\n",
    "def desconectarse(conexion):\n",
    "    if conexion:\n",
    "        conexion.close()\n",
    "        print(\"Conexión finalizada correctamente.\")\n",
    "\n",
    "def hacer_consulta(conexion):\n",
    "    cursor = conexion.cursor()\n",
    "    cursor.execute(\"SHOW DATABASES\")\n",
    "    for bd in cursor:\n",
    "        print(bd)\n",
    "    cursor.close()\n",
    "\n",
    "u = os.environ.get(\"usuario_mysql\")\n",
    "c = os.environ.get(\"contrasenia_mysql\")\n",
    "\n",
    "conexion = conectarse(u, c)\n",
    "if conexion:\n",
    "    hacer_consulta(conexion)\n",
    "    desconectarse(conexion)\n"
   ]
  },
  {
   "cell_type": "code",
   "execution_count": null,
   "id": "b684668d-f24a-4f30-991e-e72aaca29baa",
   "metadata": {},
   "outputs": [],
   "source": []
  }
 ],
 "metadata": {
  "kernelspec": {
   "display_name": "Python 3 (ipykernel)",
   "language": "python",
   "name": "python3"
  },
  "language_info": {
   "codemirror_mode": {
    "name": "ipython",
    "version": 3
   },
   "file_extension": ".py",
   "mimetype": "text/x-python",
   "name": "python",
   "nbconvert_exporter": "python",
   "pygments_lexer": "ipython3",
   "version": "3.8.8"
  }
 },
 "nbformat": 4,
 "nbformat_minor": 5
}
