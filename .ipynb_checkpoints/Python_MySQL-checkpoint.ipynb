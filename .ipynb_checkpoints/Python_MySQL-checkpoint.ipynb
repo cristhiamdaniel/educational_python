{
 "cells": [
  {
   "cell_type": "markdown",
   "id": "31013b79-d110-481a-8448-14b7c32177ca",
   "metadata": {},
   "source": [
    "# Estableciendo una conexión al SGBD MySQL"
   ]
  },
  {
   "cell_type": "code",
   "execution_count": 1,
   "id": "979ae2f7-bd90-4b8b-b0fa-e0706578d246",
   "metadata": {},
   "outputs": [],
   "source": [
    "import mysql.connector"
   ]
  },
  {
   "cell_type": "code",
   "execution_count": 3,
   "id": "9e7007dc-7ce7-43c5-b6e1-023706e724fd",
   "metadata": {},
   "outputs": [
    {
     "name": "stdout",
     "output_type": "stream",
     "text": [
      "Conexión establecida correctamente.\n",
      "('agenda',)\n",
      "('information_schema',)\n",
      "('mysql',)\n",
      "('performance_schema',)\n",
      "('sakila',)\n",
      "('sys',)\n",
      "('world',)\n",
      "Conexión finalizada correctamente.\n"
     ]
    }
   ],
   "source": [
    "# Mediante la función connect se puede crear un objeto tipo mysql connection\n",
    "\n",
    "# Creamos la conexión:\n",
    "mi_conexion = mysql.connector.connect(\n",
    "    host = \"localhost\",\n",
    "    user = \"root\",\n",
    "    passwd = \"julca1991\")\n",
    "    \n",
    "if mi_conexion.is_connected():\n",
    "    print(\"Conexión establecida correctamente.\")\n",
    "\n",
    "# Creamos el cursor:\n",
    "\n",
    "mi_cursor = mi_conexion.cursor()\n",
    "\n",
    "# Llevamos a cabo las querys\n",
    "\n",
    "mi_cursor.execute(\"SHOW DATABASES\")\n",
    "\n",
    "# Mostramos los resultados:\n",
    "\n",
    "for bd in mi_cursor:\n",
    "    print(bd)\n",
    "\n",
    "# cerramos el cursor\n",
    "mi_cursor.close()\n",
    "\n",
    "# Cerramos la conexión:\n",
    "mi_conexion.close()\n",
    "\n",
    "if not mi_conexion.is_connected():\n",
    "    print(\"Conexión finalizada correctamente.\")"
   ]
  },
  {
   "cell_type": "markdown",
   "id": "3335ba35-e8b9-4cfc-b61e-378af523cfde",
   "metadata": {},
   "source": [
    "# Evitando errores en conexión poniendo excepciones"
   ]
  },
  {
   "cell_type": "markdown",
   "id": "d63b1e44-ea2a-47d5-94c9-0d7924e23477",
   "metadata": {},
   "source": [
    "Acceso denegado para el usuario root porque colocó mal la contraseña."
   ]
  },
  {
   "cell_type": "code",
   "execution_count": 5,
   "id": "6e0e5b0d-ef43-4de7-a81a-153fc606e0ac",
   "metadata": {},
   "outputs": [
    {
     "name": "stdout",
     "output_type": "stream",
     "text": [
      "Ha ocurrido un error\n",
      "1045 (28000): Access denied for user 'root'@'localhost' (using password: YES)\n"
     ]
    }
   ],
   "source": [
    "import mysql.connector\n",
    "from mysql.connector import Error\n",
    "\n",
    "try:\n",
    "    mi_conexion = mysql.connector.connect(\n",
    "        host = \"localhost\",\n",
    "        user = \"root\",\n",
    "        passwd = \"julca\")\n",
    "\n",
    "    if mi_conexion.is_connected():\n",
    "        print(\"Conexión establecida correctamente.\")\n",
    "\n",
    "    mi_cursor = mi_conexion.cursor()\n",
    "    mi_cursor.execute(\"SHOW DATABASES\")\n",
    "\n",
    "    for bd in mi_cursor:\n",
    "        print(bd)\n",
    "\n",
    "    mi_cursor.close()\n",
    "    mi_conexion.close()\n",
    "\n",
    "    if not mi_conexion.is_connected():\n",
    "        print(\"Conexión finalizada correctamente.\")\n",
    "\n",
    "except Error as e:\n",
    "    print(\"Ha ocurrido un error\")\n",
    "    print(e)"
   ]
  },
  {
   "cell_type": "markdown",
   "id": "60174737-bb00-40c1-b4a1-bd7adc44ed69",
   "metadata": {},
   "source": [
    "Acceso denegado porque no se puede conectar al servidor."
   ]
  },
  {
   "cell_type": "code",
   "execution_count": 8,
   "id": "4cd339a6-9626-4738-ad26-967f02fac63b",
   "metadata": {},
   "outputs": [
    {
     "name": "stdout",
     "output_type": "stream",
     "text": [
      "Ha ocurrido un error\n",
      "2005 (HY000): Unknown MySQL server host 'localhst' (11)\n"
     ]
    }
   ],
   "source": [
    "import mysql.connector\n",
    "from mysql.connector import Error\n",
    "\n",
    "try:\n",
    "    mi_conexion = mysql.connector.connect(\n",
    "        host = \"localhst\",\n",
    "        user = \"root\",\n",
    "        passwd = \"julca1991\")\n",
    "\n",
    "    if mi_conexion.is_connected():\n",
    "        print(\"Conexión establecida correctamente.\")\n",
    "\n",
    "    mi_cursor = mi_conexion.cursor()\n",
    "    mi_cursor.execute(\"SHOW DATABASES\")\n",
    "\n",
    "    for bd in mi_cursor:\n",
    "        print(bd)\n",
    "\n",
    "    mi_cursor.close()\n",
    "    mi_conexion.close()\n",
    "\n",
    "    if not mi_conexion.is_connected():\n",
    "        print(\"Conexión finalizada correctamente.\")\n",
    "\n",
    "except Error as e:\n",
    "    print(\"Ha ocurrido un error\")\n",
    "    print(e)"
   ]
  },
  {
   "cell_type": "code",
   "execution_count": 10,
   "id": "63cd3412-15ce-41fb-af97-1529cc6d565a",
   "metadata": {},
   "outputs": [
    {
     "name": "stdin",
     "output_type": "stream",
     "text": [
      "Introduce el usuario:  root\n",
      "Introduce la contraseña:  julca1991\n"
     ]
    },
    {
     "name": "stdout",
     "output_type": "stream",
     "text": [
      "Conexión establecida correctamente.\n",
      "('agenda',)\n",
      "('information_schema',)\n",
      "('mysql',)\n",
      "('performance_schema',)\n",
      "('sakila',)\n",
      "('sys',)\n",
      "('world',)\n",
      "Conexión finalizada correctamente.\n"
     ]
    }
   ],
   "source": [
    "import mysql.connector\n",
    "from mysql.connector import Error\n",
    "\n",
    "try:\n",
    "    mi_conexion = mysql.connector.connect(\n",
    "        host = \"localhost\",\n",
    "        user = input(\"Introduce el usuario: \"),\n",
    "        passwd = input(\"Introduce la contraseña: \"))\n",
    "\n",
    "    if mi_conexion.is_connected():\n",
    "        print(\"Conexión establecida correctamente.\")\n",
    "\n",
    "    mi_cursor = mi_conexion.cursor()\n",
    "    mi_cursor.execute(\"SHOW DATABASES\")\n",
    "\n",
    "    for bd in mi_cursor:\n",
    "        print(bd)\n",
    "\n",
    "    mi_cursor.close()\n",
    "    mi_conexion.close()\n",
    "\n",
    "    if not mi_conexion.is_connected():\n",
    "        print(\"Conexión finalizada correctamente.\")\n",
    "\n",
    "except Error as e:\n",
    "    print(\"Ha ocurrido un error\")\n",
    "    print(e)"
   ]
  },
  {
   "cell_type": "code",
   "execution_count": null,
   "id": "10b3556c-556e-433b-9f4f-71b25419ad31",
   "metadata": {},
   "outputs": [],
   "source": []
  }
 ],
 "metadata": {
  "kernelspec": {
   "display_name": "Python 3 (ipykernel)",
   "language": "python",
   "name": "python3"
  },
  "language_info": {
   "codemirror_mode": {
    "name": "ipython",
    "version": 3
   },
   "file_extension": ".py",
   "mimetype": "text/x-python",
   "name": "python",
   "nbconvert_exporter": "python",
   "pygments_lexer": "ipython3",
   "version": "3.8.8"
  }
 },
 "nbformat": 4,
 "nbformat_minor": 5
}
